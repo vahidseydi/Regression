{
  "nbformat": 4,
  "nbformat_minor": 0,
  "metadata": {
    "colab": {
      "name": "Simple_Regression.ipynb",
      "provenance": [],
      "collapsed_sections": [],
      "include_colab_link": true
    },
    "kernelspec": {
      "name": "python3",
      "display_name": "Python 3"
    }
  },
  "cells": [
    {
      "cell_type": "markdown",
      "metadata": {
        "id": "view-in-github",
        "colab_type": "text"
      },
      "source": [
        "<a href=\"https://colab.research.google.com/github/vahidseydi/Regression/blob/master/Simple_Regression.ipynb\" target=\"_parent\"><img src=\"https://colab.research.google.com/assets/colab-badge.svg\" alt=\"Open In Colab\"/></a>"
      ]
    },
    {
      "cell_type": "markdown",
      "metadata": {
        "id": "FxXrCMFf-Ebw",
        "colab_type": "text"
      },
      "source": [
        "#Machine Learning Course (fall-2019) STB University -- session 1 --  simple regression model \n",
        "[Thanks to Professor Emily Fox for a wonderful teaching of machine learning](https://www.coursera.org/learn/ml-regression)\n",
        "# Simple Regression Model in General:\n",
        "# &emsp; $ y_i = w_0+w_1x + \\epsilon_i$\n",
        "# we discuss about:\n",
        "### &emsp; - approach 0 : brute force search\n",
        "### &emsp; - approach 1 : close form\n",
        "### &emsp; - approach 2 : hill climbing (gradient steepest descent) \n",
        "### &emsp; - maximum likelihood\n",
        "## Dataset: House price prediction"
      ]
    },
    {
      "cell_type": "code",
      "metadata": {
        "id": "CdEJy5mq95L9",
        "colab_type": "code",
        "colab": {}
      },
      "source": [
        "import numpy as np\n",
        "import pandas as pd\n",
        "import matplotlib.pyplot as plt"
      ],
      "execution_count": 0,
      "outputs": []
    },
    {
      "cell_type": "code",
      "metadata": {
        "id": "5cmipZm9_a-q",
        "colab_type": "code",
        "colab": {}
      },
      "source": [
        "import warnings\n",
        "warnings.simplefilter(\"ignore\")"
      ],
      "execution_count": 0,
      "outputs": []
    },
    {
      "cell_type": "code",
      "metadata": {
        "id": "gRcHN5xI_f8Y",
        "colab_type": "code",
        "colab": {
          "base_uri": "https://localhost:8080/",
          "height": 224
        },
        "outputId": "8c94f09c-f88d-4ee3-832e-5757062ff077"
      },
      "source": [
        "data_set_path='https://raw.githubusercontent.com/vahidseydi/Regression/master/kc_house_data.csv'\n",
        "data=pd.read_csv(data_set_path)\n",
        "data.head()"
      ],
      "execution_count": 3,
      "outputs": [
        {
          "output_type": "execute_result",
          "data": {
            "text/html": [
              "<div>\n",
              "<style scoped>\n",
              "    .dataframe tbody tr th:only-of-type {\n",
              "        vertical-align: middle;\n",
              "    }\n",
              "\n",
              "    .dataframe tbody tr th {\n",
              "        vertical-align: top;\n",
              "    }\n",
              "\n",
              "    .dataframe thead th {\n",
              "        text-align: right;\n",
              "    }\n",
              "</style>\n",
              "<table border=\"1\" class=\"dataframe\">\n",
              "  <thead>\n",
              "    <tr style=\"text-align: right;\">\n",
              "      <th></th>\n",
              "      <th>id</th>\n",
              "      <th>date</th>\n",
              "      <th>price</th>\n",
              "      <th>bedrooms</th>\n",
              "      <th>bathrooms</th>\n",
              "      <th>sqft_living</th>\n",
              "      <th>sqft_lot</th>\n",
              "      <th>floors</th>\n",
              "      <th>waterfront</th>\n",
              "      <th>view</th>\n",
              "      <th>condition</th>\n",
              "      <th>grade</th>\n",
              "      <th>sqft_above</th>\n",
              "      <th>sqft_basement</th>\n",
              "      <th>yr_built</th>\n",
              "      <th>yr_renovated</th>\n",
              "      <th>zipcode</th>\n",
              "      <th>lat</th>\n",
              "      <th>long</th>\n",
              "      <th>sqft_living15</th>\n",
              "      <th>sqft_lot15</th>\n",
              "    </tr>\n",
              "  </thead>\n",
              "  <tbody>\n",
              "    <tr>\n",
              "      <th>0</th>\n",
              "      <td>7129300520</td>\n",
              "      <td>20141013T000000</td>\n",
              "      <td>221900.0</td>\n",
              "      <td>3</td>\n",
              "      <td>1.00</td>\n",
              "      <td>1180</td>\n",
              "      <td>5650</td>\n",
              "      <td>1.0</td>\n",
              "      <td>0</td>\n",
              "      <td>0</td>\n",
              "      <td>3</td>\n",
              "      <td>7</td>\n",
              "      <td>1180</td>\n",
              "      <td>0</td>\n",
              "      <td>1955</td>\n",
              "      <td>0</td>\n",
              "      <td>98178</td>\n",
              "      <td>47.5112</td>\n",
              "      <td>-122.257</td>\n",
              "      <td>1340</td>\n",
              "      <td>5650</td>\n",
              "    </tr>\n",
              "    <tr>\n",
              "      <th>1</th>\n",
              "      <td>6414100192</td>\n",
              "      <td>20141209T000000</td>\n",
              "      <td>538000.0</td>\n",
              "      <td>3</td>\n",
              "      <td>2.25</td>\n",
              "      <td>2570</td>\n",
              "      <td>7242</td>\n",
              "      <td>2.0</td>\n",
              "      <td>0</td>\n",
              "      <td>0</td>\n",
              "      <td>3</td>\n",
              "      <td>7</td>\n",
              "      <td>2170</td>\n",
              "      <td>400</td>\n",
              "      <td>1951</td>\n",
              "      <td>1991</td>\n",
              "      <td>98125</td>\n",
              "      <td>47.7210</td>\n",
              "      <td>-122.319</td>\n",
              "      <td>1690</td>\n",
              "      <td>7639</td>\n",
              "    </tr>\n",
              "    <tr>\n",
              "      <th>2</th>\n",
              "      <td>5631500400</td>\n",
              "      <td>20150225T000000</td>\n",
              "      <td>180000.0</td>\n",
              "      <td>2</td>\n",
              "      <td>1.00</td>\n",
              "      <td>770</td>\n",
              "      <td>10000</td>\n",
              "      <td>1.0</td>\n",
              "      <td>0</td>\n",
              "      <td>0</td>\n",
              "      <td>3</td>\n",
              "      <td>6</td>\n",
              "      <td>770</td>\n",
              "      <td>0</td>\n",
              "      <td>1933</td>\n",
              "      <td>0</td>\n",
              "      <td>98028</td>\n",
              "      <td>47.7379</td>\n",
              "      <td>-122.233</td>\n",
              "      <td>2720</td>\n",
              "      <td>8062</td>\n",
              "    </tr>\n",
              "    <tr>\n",
              "      <th>3</th>\n",
              "      <td>2487200875</td>\n",
              "      <td>20141209T000000</td>\n",
              "      <td>604000.0</td>\n",
              "      <td>4</td>\n",
              "      <td>3.00</td>\n",
              "      <td>1960</td>\n",
              "      <td>5000</td>\n",
              "      <td>1.0</td>\n",
              "      <td>0</td>\n",
              "      <td>0</td>\n",
              "      <td>5</td>\n",
              "      <td>7</td>\n",
              "      <td>1050</td>\n",
              "      <td>910</td>\n",
              "      <td>1965</td>\n",
              "      <td>0</td>\n",
              "      <td>98136</td>\n",
              "      <td>47.5208</td>\n",
              "      <td>-122.393</td>\n",
              "      <td>1360</td>\n",
              "      <td>5000</td>\n",
              "    </tr>\n",
              "    <tr>\n",
              "      <th>4</th>\n",
              "      <td>1954400510</td>\n",
              "      <td>20150218T000000</td>\n",
              "      <td>510000.0</td>\n",
              "      <td>3</td>\n",
              "      <td>2.00</td>\n",
              "      <td>1680</td>\n",
              "      <td>8080</td>\n",
              "      <td>1.0</td>\n",
              "      <td>0</td>\n",
              "      <td>0</td>\n",
              "      <td>3</td>\n",
              "      <td>8</td>\n",
              "      <td>1680</td>\n",
              "      <td>0</td>\n",
              "      <td>1987</td>\n",
              "      <td>0</td>\n",
              "      <td>98074</td>\n",
              "      <td>47.6168</td>\n",
              "      <td>-122.045</td>\n",
              "      <td>1800</td>\n",
              "      <td>7503</td>\n",
              "    </tr>\n",
              "  </tbody>\n",
              "</table>\n",
              "</div>"
            ],
            "text/plain": [
              "           id             date     price  ...     long  sqft_living15  sqft_lot15\n",
              "0  7129300520  20141013T000000  221900.0  ... -122.257           1340        5650\n",
              "1  6414100192  20141209T000000  538000.0  ... -122.319           1690        7639\n",
              "2  5631500400  20150225T000000  180000.0  ... -122.233           2720        8062\n",
              "3  2487200875  20141209T000000  604000.0  ... -122.393           1360        5000\n",
              "4  1954400510  20150218T000000  510000.0  ... -122.045           1800        7503\n",
              "\n",
              "[5 rows x 21 columns]"
            ]
          },
          "metadata": {
            "tags": []
          },
          "execution_count": 3
        }
      ]
    },
    {
      "cell_type": "markdown",
      "metadata": {
        "id": "MgY-I9Ka_pJG",
        "colab_type": "text"
      },
      "source": [
        "# input and target"
      ]
    },
    {
      "cell_type": "code",
      "metadata": {
        "id": "NFXiRspt_iGc",
        "colab_type": "code",
        "colab": {
          "base_uri": "https://localhost:8080/",
          "height": 34
        },
        "outputId": "83d52eb8-1a03-4ff5-89d5-198ad1dc26e3"
      },
      "source": [
        "x=np.array(data['sqft_living'])\n",
        "y=np.array(data['price'])\n",
        "N=len(y)\n",
        "print('Number of data is: %d'%N)"
      ],
      "execution_count": 4,
      "outputs": [
        {
          "output_type": "stream",
          "text": [
            "Number of data is: 21613\n"
          ],
          "name": "stdout"
        }
      ]
    },
    {
      "cell_type": "markdown",
      "metadata": {
        "id": "zaTlN6XDE29c",
        "colab_type": "text"
      },
      "source": [
        "## Let's randomly assign weights "
      ]
    },
    {
      "cell_type": "code",
      "metadata": {
        "id": "Z_Ksb7dTEnHa",
        "colab_type": "code",
        "colab": {
          "base_uri": "https://localhost:8080/",
          "height": 34
        },
        "outputId": "3d6258ba-b464-4942-a6ce-2730983917e0"
      },
      "source": [
        "#---------------------------------------------\n",
        "# w0 is sampled from normal dist\n",
        "#---------------------------------------------\n",
        "sigma=10\n",
        "mu=0\n",
        "w0=sigma*np.random.randn()+mu\n",
        "#---------------------------------------------\n",
        "# w1 is sampled from uniform dist\n",
        "#---------------------------------------------\n",
        "upper=100\n",
        "lower=0\n",
        "w1=(upper-lower)*np.random.random() + lower;\n",
        "#---------------------------------------------\n",
        "# print w0, w1\n",
        "#---------------------------------------------\n",
        "w0_random=w0\n",
        "w1_random=w1\n",
        "print('w0 = %f , w1 = %f'%(w0,w1))"
      ],
      "execution_count": 5,
      "outputs": [
        {
          "output_type": "stream",
          "text": [
            "w0 = 4.401857 , w1 = 57.564951\n"
          ],
          "name": "stdout"
        }
      ]
    },
    {
      "cell_type": "markdown",
      "metadata": {
        "id": "87GzE4NFJHTe",
        "colab_type": "text"
      },
      "source": [
        "### predicting price using these weights"
      ]
    },
    {
      "cell_type": "code",
      "metadata": {
        "id": "88Ihh24uEfDO",
        "colab_type": "code",
        "colab": {}
      },
      "source": [
        "y_hat=np.empty(shape=(N,))\n",
        "for i in range(N):\n",
        "  y_hat[i]=w0+w1*x[i]"
      ],
      "execution_count": 0,
      "outputs": []
    },
    {
      "cell_type": "markdown",
      "metadata": {
        "id": "288MbYRaMSHN",
        "colab_type": "text"
      },
      "source": [
        "### results in DataFrame"
      ]
    },
    {
      "cell_type": "code",
      "metadata": {
        "id": "UL5SSeDxEfSK",
        "colab_type": "code",
        "colab": {
          "base_uri": "https://localhost:8080/",
          "height": 359
        },
        "outputId": "998c4a3a-8ff8-45b6-cf07-869966427470"
      },
      "source": [
        "pd.DataFrame({'sqft_living': x, 'price': y,'predicted_price':y_hat}).head(10)"
      ],
      "execution_count": 7,
      "outputs": [
        {
          "output_type": "execute_result",
          "data": {
            "text/html": [
              "<div>\n",
              "<style scoped>\n",
              "    .dataframe tbody tr th:only-of-type {\n",
              "        vertical-align: middle;\n",
              "    }\n",
              "\n",
              "    .dataframe tbody tr th {\n",
              "        vertical-align: top;\n",
              "    }\n",
              "\n",
              "    .dataframe thead th {\n",
              "        text-align: right;\n",
              "    }\n",
              "</style>\n",
              "<table border=\"1\" class=\"dataframe\">\n",
              "  <thead>\n",
              "    <tr style=\"text-align: right;\">\n",
              "      <th></th>\n",
              "      <th>sqft_living</th>\n",
              "      <th>price</th>\n",
              "      <th>predicted_price</th>\n",
              "    </tr>\n",
              "  </thead>\n",
              "  <tbody>\n",
              "    <tr>\n",
              "      <th>0</th>\n",
              "      <td>1180</td>\n",
              "      <td>221900.0</td>\n",
              "      <td>67931.044238</td>\n",
              "    </tr>\n",
              "    <tr>\n",
              "      <th>1</th>\n",
              "      <td>2570</td>\n",
              "      <td>538000.0</td>\n",
              "      <td>147946.326364</td>\n",
              "    </tr>\n",
              "    <tr>\n",
              "      <th>2</th>\n",
              "      <td>770</td>\n",
              "      <td>180000.0</td>\n",
              "      <td>44329.414258</td>\n",
              "    </tr>\n",
              "    <tr>\n",
              "      <th>3</th>\n",
              "      <td>1960</td>\n",
              "      <td>604000.0</td>\n",
              "      <td>112831.706151</td>\n",
              "    </tr>\n",
              "    <tr>\n",
              "      <th>4</th>\n",
              "      <td>1680</td>\n",
              "      <td>510000.0</td>\n",
              "      <td>96713.519823</td>\n",
              "    </tr>\n",
              "    <tr>\n",
              "      <th>5</th>\n",
              "      <td>5420</td>\n",
              "      <td>1225000.0</td>\n",
              "      <td>312006.437199</td>\n",
              "    </tr>\n",
              "    <tr>\n",
              "      <th>6</th>\n",
              "      <td>1715</td>\n",
              "      <td>257500.0</td>\n",
              "      <td>98728.293114</td>\n",
              "    </tr>\n",
              "    <tr>\n",
              "      <th>7</th>\n",
              "      <td>1060</td>\n",
              "      <td>291850.0</td>\n",
              "      <td>61023.250097</td>\n",
              "    </tr>\n",
              "    <tr>\n",
              "      <th>8</th>\n",
              "      <td>1780</td>\n",
              "      <td>229500.0</td>\n",
              "      <td>102470.014940</td>\n",
              "    </tr>\n",
              "    <tr>\n",
              "      <th>9</th>\n",
              "      <td>1890</td>\n",
              "      <td>323000.0</td>\n",
              "      <td>108802.159569</td>\n",
              "    </tr>\n",
              "  </tbody>\n",
              "</table>\n",
              "</div>"
            ],
            "text/plain": [
              "   sqft_living      price  predicted_price\n",
              "0         1180   221900.0     67931.044238\n",
              "1         2570   538000.0    147946.326364\n",
              "2          770   180000.0     44329.414258\n",
              "3         1960   604000.0    112831.706151\n",
              "4         1680   510000.0     96713.519823\n",
              "5         5420  1225000.0    312006.437199\n",
              "6         1715   257500.0     98728.293114\n",
              "7         1060   291850.0     61023.250097\n",
              "8         1780   229500.0    102470.014940\n",
              "9         1890   323000.0    108802.159569"
            ]
          },
          "metadata": {
            "tags": []
          },
          "execution_count": 7
        }
      ]
    },
    {
      "cell_type": "markdown",
      "metadata": {
        "id": "mZseXL9tMfPm",
        "colab_type": "text"
      },
      "source": [
        "### results in graph\n"
      ]
    },
    {
      "cell_type": "code",
      "metadata": {
        "id": "E_1hPE1iEfaE",
        "colab_type": "code",
        "colab": {
          "base_uri": "https://localhost:8080/",
          "height": 336
        },
        "outputId": "c515c180-f834-4711-af9c-f71c8287ff75"
      },
      "source": [
        "fig = plt.figure(figsize=(15,5))\n",
        "plt.xlabel('sqft_living')\n",
        "plt.ylabel('price')\n",
        "plt.scatter(x,y)\n",
        "plt.plot(x,y_hat,'r')\n",
        "plt.legend([y_hat,y],labels=['model','dataset'])\n",
        "plt.show()"
      ],
      "execution_count": 8,
      "outputs": [
        {
          "output_type": "display_data",
          "data": {
            "image/png": "[encoded data removed]",
            "text/plain": [
              "<Figure size 1080x360 with 1 Axes>"
            ]
          },
          "metadata": {
            "tags": []
          }
        }
      ]
    },
    {
      "cell_type": "markdown",
      "metadata": {
        "id": "HmMqsU9XPmPO",
        "colab_type": "text"
      },
      "source": [
        "### Residual Sum of Squre(RSS)"
      ]
    },
    {
      "cell_type": "code",
      "metadata": {
        "id": "cDz-c6btEfYK",
        "colab_type": "code",
        "colab": {
          "base_uri": "https://localhost:8080/",
          "height": 34
        },
        "outputId": "e8c84dbc-d0b8-4e26-b98a-b173fe447af7"
      },
      "source": [
        "RSS_random=0\n",
        "for i in range(N):\n",
        "  Residual=y[i]-y_hat[i]\n",
        "  RSS_random+=np.power(Residual,2)\n",
        "print('RSS = %f'%RSS_random)"
      ],
      "execution_count": 9,
      "outputs": [
        {
          "output_type": "stream",
          "text": [
            "RSS = 6203305326077135.000000\n"
          ],
          "name": "stdout"
        }
      ]
    },
    {
      "cell_type": "markdown",
      "metadata": {
        "id": "Rh_3H57hEnuX",
        "colab_type": "text"
      },
      "source": [
        "#brute force search"
      ]
    },
    {
      "cell_type": "code",
      "metadata": {
        "id": "sLlVdXj8Rx1K",
        "colab_type": "code",
        "colab": {}
      },
      "source": [
        "#---------------------------------------------\n",
        "# define a function to predict \n",
        "#---------------------------------------------\n",
        "def predict(x,w0,w1):\n",
        "  for i in range(len(x)):\n",
        "    y_hat[i]=w0+w1*x[i]\n",
        "  return y_hat\n"
      ],
      "execution_count": 0,
      "outputs": []
    },
    {
      "cell_type": "code",
      "metadata": {
        "id": "Jo2tXGOkSOBY",
        "colab_type": "code",
        "colab": {}
      },
      "source": [
        "#---------------------------------------------\n",
        "# define a function to calculate RSS \n",
        "#---------------------------------------------\n",
        "def RSS(y,y_hat):\n",
        "  rss=0\n",
        "  for i in range(len(y)):\n",
        "    rss+=np.power(y[i]-y_hat[i],2)\n",
        "  return rss"
      ],
      "execution_count": 0,
      "outputs": []
    },
    {
      "cell_type": "code",
      "metadata": {
        "id": "m8ys0oKyEfWJ",
        "colab_type": "code",
        "colab": {
          "base_uri": "https://localhost:8080/",
          "height": 51
        },
        "outputId": "09a4d78c-4282-4cf6-a587-5fad409b2657"
      },
      "source": [
        "#---------------------------------------------\n",
        "# brute force search\n",
        "#---------------------------------------------\n",
        "RSS_brute=np.inf\n",
        "for w0 in range(-100,100,10):\n",
        "  for w1 in range(0,1000,50):\n",
        "    y_hat=predict(x,w0,w1)\n",
        "    rss=RSS(y,y_hat)\n",
        "    if rss < RSS_brute:\n",
        "      RSS_brute=rss\n",
        "      w0_brute=w0\n",
        "      w1_brute=w1\n",
        "print('RSS = %f'%RSS_brute)\n",
        "print('w0 = %f , w1 = %f'%(w0_brute,w1_brute))"
      ],
      "execution_count": 12,
      "outputs": [
        {
          "output_type": "stream",
          "text": [
            "RSS = 1503038206484430.000000\n",
            "w0 = 90.000000 , w1 = 250.000000\n"
          ],
          "name": "stdout"
        }
      ]
    },
    {
      "cell_type": "code",
      "metadata": {
        "id": "foi-f-fMYja4",
        "colab_type": "code",
        "colab": {
          "base_uri": "https://localhost:8080/",
          "height": 293
        },
        "outputId": "4515f79e-264e-4b0f-d9b7-81637d8d768e"
      },
      "source": [
        "plt.ylabel('RSS')\n",
        "plt.bar(['random','brute'],[RSS_random,RSS_brute])"
      ],
      "execution_count": 13,
      "outputs": [
        {
          "output_type": "execute_result",
          "data": {
            "text/plain": [
              "<BarContainer object of 2 artists>"
            ]
          },
          "metadata": {
            "tags": []
          },
          "execution_count": 13
        },
        {
          "output_type": "display_data",
          "data": {
            "image/png": "[encoded data removed]",
            "text/plain": [
              "<Figure size 432x288 with 1 Axes>"
            ]
          },
          "metadata": {
            "tags": []
          }
        }
      ]
    },
    {
      "cell_type": "markdown",
      "metadata": {
        "id": "zx9q6JZyXX1-",
        "colab_type": "text"
      },
      "source": [
        "# Approach 1: close form"
      ]
    },
    {
      "cell_type": "markdown",
      "metadata": {
        "id": "oJwAr_DgXYSO",
        "colab_type": "text"
      },
      "source": [
        "# Approach 2: Gradient Descent"
      ]
    },
    {
      "cell_type": "markdown",
      "metadata": {
        "id": "6fTZ0p9kXY9f",
        "colab_type": "text"
      },
      "source": [
        "# Maximum Likelihood"
      ]
    },
    {
      "cell_type": "markdown",
      "metadata": {
        "id": "qIaEURpPXxa6",
        "colab_type": "text"
      },
      "source": [
        "# Outliers Influence"
      ]
    },
    {
      "cell_type": "code",
      "metadata": {
        "id": "iEuZpl0_AC36",
        "colab_type": "code",
        "colab": {
          "base_uri": "https://localhost:8080/",
          "height": 272
        },
        "outputId": "e2bd18ef-bccc-4f78-c9a1-a0cf34a3e400"
      },
      "source": [
        "data['sqft_living'].describe(percentiles=[.1, .2, .3, .4, .5, .6, .7, .8, .9])"
      ],
      "execution_count": 14,
      "outputs": [
        {
          "output_type": "execute_result",
          "data": {
            "text/plain": [
              "count    21613.000000\n",
              "mean      2079.899736\n",
              "std        918.440897\n",
              "min        290.000000\n",
              "10%       1090.000000\n",
              "20%       1320.000000\n",
              "30%       1520.000000\n",
              "40%       1710.000000\n",
              "50%       1910.000000\n",
              "60%       2130.000000\n",
              "70%       2400.000000\n",
              "80%       2730.000000\n",
              "90%       3250.000000\n",
              "max      13540.000000\n",
              "Name: sqft_living, dtype: float64"
            ]
          },
          "metadata": {
            "tags": []
          },
          "execution_count": 14
        }
      ]
    },
    {
      "cell_type": "markdown",
      "metadata": {
        "id": "KOgaJ1n1Dmmc",
        "colab_type": "text"
      },
      "source": [
        "## Q1: What can we realize by describe method?"
      ]
    },
    {
      "cell_type": "code",
      "metadata": {
        "id": "uURXaT45AoYe",
        "colab_type": "code",
        "colab": {}
      },
      "source": [
        ""
      ],
      "execution_count": 0,
      "outputs": []
    },
    {
      "cell_type": "code",
      "metadata": {
        "id": "Ct4m50fjUGKI",
        "colab_type": "code",
        "colab": {}
      },
      "source": [
        ""
      ],
      "execution_count": 0,
      "outputs": []
    }
  ]
}