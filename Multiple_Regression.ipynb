{
  "nbformat": 4,
  "nbformat_minor": 0,
  "metadata": {
    "kernelspec": {
      "display_name": "Python 3",
      "language": "python",
      "name": "python3"
    },
    "language_info": {
      "codemirror_mode": {
        "name": "ipython",
        "version": 3
      },
      "file_extension": ".py",
      "mimetype": "text/x-python",
      "name": "python",
      "nbconvert_exporter": "python",
      "pygments_lexer": "ipython3",
      "version": "3.7.3"
    },
    "colab": {
      "name": "Multiple_Regression.ipynb",
      "provenance": [],
      "include_colab_link": true
    }
  },
  "cells": [
    {
      "cell_type": "markdown",
      "metadata": {
        "id": "view-in-github",
        "colab_type": "text"
      },
      "source": [
        "<a href=\"https://colab.research.google.com/github/vahidseydi/Regression/blob/master/Multiple_Regression.ipynb\" target=\"_parent\"><img src=\"https://colab.research.google.com/assets/colab-badge.svg\" alt=\"Open In Colab\"/></a>"
      ]
    },
    {
      "cell_type": "markdown",
      "metadata": {
        "id": "xgOnmsG63mtV",
        "colab_type": "text"
      },
      "source": [
        "#Machine Learning Class -- session 2 --  multiple regression model \n",
        "# $ y_i = \\Sigma _{d=i} ^{D} h_d(x_i) \\times w_d + \\epsilon_i$\n",
        "# $ Y = H \\times w + \\epsilon $\n",
        "## approach 1 : close form\n",
        "##approach 2 : hill climbing (gradient steepest descent) \n",
        "\n",
        "## Dataset: House price prediction\n"
      ]
    },
    {
      "cell_type": "code",
      "metadata": {
        "id": "gKJY-2VHtY7J",
        "colab_type": "code",
        "colab": {}
      },
      "source": [
        "import numpy as np\n",
        "import pandas as pd\n",
        "import matplotlib.pyplot as plt\n"
      ],
      "execution_count": 0,
      "outputs": []
    },
    {
      "cell_type": "code",
      "metadata": {
        "id": "XALLr9m9Vm7F",
        "colab_type": "code",
        "colab": {}
      },
      "source": [
        "import warnings\n",
        "warnings.simplefilter(\"ignore\")"
      ],
      "execution_count": 0,
      "outputs": []
    },
    {
      "cell_type": "markdown",
      "metadata": {
        "id": "uCWpWoV85Z08",
        "colab_type": "text"
      },
      "source": [
        "#Load dataset"
      ]
    },
    {
      "cell_type": "code",
      "metadata": {
        "id": "JgNEpiUrtY7O",
        "colab_type": "code",
        "outputId": "abc7155a-fe8f-4170-f78c-98ff339cfe0d",
        "colab": {
          "base_uri": "https://localhost:8080/",
          "height": 224
        }
      },
      "source": [
        "data_set_path='https://raw.githubusercontent.com/vahidseydi/Regression/master/kc_house_data.csv'\n",
        "data=pd.read_csv(data_set_path)\n",
        "data.head()"
      ],
      "execution_count": 3,
      "outputs": [
        {
          "output_type": "execute_result",
          "data": {
            "text/html": [
              "<div>\n",
              "<style scoped>\n",
              "    .dataframe tbody tr th:only-of-type {\n",
              "        vertical-align: middle;\n",
              "    }\n",
              "\n",
              "    .dataframe tbody tr th {\n",
              "        vertical-align: top;\n",
              "    }\n",
              "\n",
              "    .dataframe thead th {\n",
              "        text-align: right;\n",
              "    }\n",
              "</style>\n",
              "<table border=\"1\" class=\"dataframe\">\n",
              "  <thead>\n",
              "    <tr style=\"text-align: right;\">\n",
              "      <th></th>\n",
              "      <th>id</th>\n",
              "      <th>date</th>\n",
              "      <th>price</th>\n",
              "      <th>bedrooms</th>\n",
              "      <th>bathrooms</th>\n",
              "      <th>sqft_living</th>\n",
              "      <th>sqft_lot</th>\n",
              "      <th>floors</th>\n",
              "      <th>waterfront</th>\n",
              "      <th>view</th>\n",
              "      <th>condition</th>\n",
              "      <th>grade</th>\n",
              "      <th>sqft_above</th>\n",
              "      <th>sqft_basement</th>\n",
              "      <th>yr_built</th>\n",
              "      <th>yr_renovated</th>\n",
              "      <th>zipcode</th>\n",
              "      <th>lat</th>\n",
              "      <th>long</th>\n",
              "      <th>sqft_living15</th>\n",
              "      <th>sqft_lot15</th>\n",
              "    </tr>\n",
              "  </thead>\n",
              "  <tbody>\n",
              "    <tr>\n",
              "      <th>0</th>\n",
              "      <td>7129300520</td>\n",
              "      <td>20141013T000000</td>\n",
              "      <td>221900.0</td>\n",
              "      <td>3</td>\n",
              "      <td>1.00</td>\n",
              "      <td>1180</td>\n",
              "      <td>5650</td>\n",
              "      <td>1.0</td>\n",
              "      <td>0</td>\n",
              "      <td>0</td>\n",
              "      <td>3</td>\n",
              "      <td>7</td>\n",
              "      <td>1180</td>\n",
              "      <td>0</td>\n",
              "      <td>1955</td>\n",
              "      <td>0</td>\n",
              "      <td>98178</td>\n",
              "      <td>47.5112</td>\n",
              "      <td>-122.257</td>\n",
              "      <td>1340</td>\n",
              "      <td>5650</td>\n",
              "    </tr>\n",
              "    <tr>\n",
              "      <th>1</th>\n",
              "      <td>6414100192</td>\n",
              "      <td>20141209T000000</td>\n",
              "      <td>538000.0</td>\n",
              "      <td>3</td>\n",
              "      <td>2.25</td>\n",
              "      <td>2570</td>\n",
              "      <td>7242</td>\n",
              "      <td>2.0</td>\n",
              "      <td>0</td>\n",
              "      <td>0</td>\n",
              "      <td>3</td>\n",
              "      <td>7</td>\n",
              "      <td>2170</td>\n",
              "      <td>400</td>\n",
              "      <td>1951</td>\n",
              "      <td>1991</td>\n",
              "      <td>98125</td>\n",
              "      <td>47.7210</td>\n",
              "      <td>-122.319</td>\n",
              "      <td>1690</td>\n",
              "      <td>7639</td>\n",
              "    </tr>\n",
              "    <tr>\n",
              "      <th>2</th>\n",
              "      <td>5631500400</td>\n",
              "      <td>20150225T000000</td>\n",
              "      <td>180000.0</td>\n",
              "      <td>2</td>\n",
              "      <td>1.00</td>\n",
              "      <td>770</td>\n",
              "      <td>10000</td>\n",
              "      <td>1.0</td>\n",
              "      <td>0</td>\n",
              "      <td>0</td>\n",
              "      <td>3</td>\n",
              "      <td>6</td>\n",
              "      <td>770</td>\n",
              "      <td>0</td>\n",
              "      <td>1933</td>\n",
              "      <td>0</td>\n",
              "      <td>98028</td>\n",
              "      <td>47.7379</td>\n",
              "      <td>-122.233</td>\n",
              "      <td>2720</td>\n",
              "      <td>8062</td>\n",
              "    </tr>\n",
              "    <tr>\n",
              "      <th>3</th>\n",
              "      <td>2487200875</td>\n",
              "      <td>20141209T000000</td>\n",
              "      <td>604000.0</td>\n",
              "      <td>4</td>\n",
              "      <td>3.00</td>\n",
              "      <td>1960</td>\n",
              "      <td>5000</td>\n",
              "      <td>1.0</td>\n",
              "      <td>0</td>\n",
              "      <td>0</td>\n",
              "      <td>5</td>\n",
              "      <td>7</td>\n",
              "      <td>1050</td>\n",
              "      <td>910</td>\n",
              "      <td>1965</td>\n",
              "      <td>0</td>\n",
              "      <td>98136</td>\n",
              "      <td>47.5208</td>\n",
              "      <td>-122.393</td>\n",
              "      <td>1360</td>\n",
              "      <td>5000</td>\n",
              "    </tr>\n",
              "    <tr>\n",
              "      <th>4</th>\n",
              "      <td>1954400510</td>\n",
              "      <td>20150218T000000</td>\n",
              "      <td>510000.0</td>\n",
              "      <td>3</td>\n",
              "      <td>2.00</td>\n",
              "      <td>1680</td>\n",
              "      <td>8080</td>\n",
              "      <td>1.0</td>\n",
              "      <td>0</td>\n",
              "      <td>0</td>\n",
              "      <td>3</td>\n",
              "      <td>8</td>\n",
              "      <td>1680</td>\n",
              "      <td>0</td>\n",
              "      <td>1987</td>\n",
              "      <td>0</td>\n",
              "      <td>98074</td>\n",
              "      <td>47.6168</td>\n",
              "      <td>-122.045</td>\n",
              "      <td>1800</td>\n",
              "      <td>7503</td>\n",
              "    </tr>\n",
              "  </tbody>\n",
              "</table>\n",
              "</div>"
            ],
            "text/plain": [
              "           id             date     price  ...     long  sqft_living15  sqft_lot15\n",
              "0  7129300520  20141013T000000  221900.0  ... -122.257           1340        5650\n",
              "1  6414100192  20141209T000000  538000.0  ... -122.319           1690        7639\n",
              "2  5631500400  20150225T000000  180000.0  ... -122.233           2720        8062\n",
              "3  2487200875  20141209T000000  604000.0  ... -122.393           1360        5000\n",
              "4  1954400510  20150218T000000  510000.0  ... -122.045           1800        7503\n",
              "\n",
              "[5 rows x 21 columns]"
            ]
          },
          "metadata": {
            "tags": []
          },
          "execution_count": 3
        }
      ]
    },
    {
      "cell_type": "markdown",
      "metadata": {
        "id": "wcvPOJ_751bN",
        "colab_type": "text"
      },
      "source": [
        "# Separate inputs and target"
      ]
    },
    {
      "cell_type": "code",
      "metadata": {
        "id": "eI70_v3itY7U",
        "colab_type": "code",
        "outputId": "fb8b4f57-f996-4640-f3dd-7e4e66d91aa6",
        "colab": {
          "base_uri": "https://localhost:8080/",
          "height": 224
        }
      },
      "source": [
        "Y=data['price']\n",
        "X=data\n",
        "X=X.drop(['price'],axis=1)\n",
        "X.head()"
      ],
      "execution_count": 4,
      "outputs": [
        {
          "output_type": "execute_result",
          "data": {
            "text/html": [
              "<div>\n",
              "<style scoped>\n",
              "    .dataframe tbody tr th:only-of-type {\n",
              "        vertical-align: middle;\n",
              "    }\n",
              "\n",
              "    .dataframe tbody tr th {\n",
              "        vertical-align: top;\n",
              "    }\n",
              "\n",
              "    .dataframe thead th {\n",
              "        text-align: right;\n",
              "    }\n",
              "</style>\n",
              "<table border=\"1\" class=\"dataframe\">\n",
              "  <thead>\n",
              "    <tr style=\"text-align: right;\">\n",
              "      <th></th>\n",
              "      <th>id</th>\n",
              "      <th>date</th>\n",
              "      <th>bedrooms</th>\n",
              "      <th>bathrooms</th>\n",
              "      <th>sqft_living</th>\n",
              "      <th>sqft_lot</th>\n",
              "      <th>floors</th>\n",
              "      <th>waterfront</th>\n",
              "      <th>view</th>\n",
              "      <th>condition</th>\n",
              "      <th>grade</th>\n",
              "      <th>sqft_above</th>\n",
              "      <th>sqft_basement</th>\n",
              "      <th>yr_built</th>\n",
              "      <th>yr_renovated</th>\n",
              "      <th>zipcode</th>\n",
              "      <th>lat</th>\n",
              "      <th>long</th>\n",
              "      <th>sqft_living15</th>\n",
              "      <th>sqft_lot15</th>\n",
              "    </tr>\n",
              "  </thead>\n",
              "  <tbody>\n",
              "    <tr>\n",
              "      <th>0</th>\n",
              "      <td>7129300520</td>\n",
              "      <td>20141013T000000</td>\n",
              "      <td>3</td>\n",
              "      <td>1.00</td>\n",
              "      <td>1180</td>\n",
              "      <td>5650</td>\n",
              "      <td>1.0</td>\n",
              "      <td>0</td>\n",
              "      <td>0</td>\n",
              "      <td>3</td>\n",
              "      <td>7</td>\n",
              "      <td>1180</td>\n",
              "      <td>0</td>\n",
              "      <td>1955</td>\n",
              "      <td>0</td>\n",
              "      <td>98178</td>\n",
              "      <td>47.5112</td>\n",
              "      <td>-122.257</td>\n",
              "      <td>1340</td>\n",
              "      <td>5650</td>\n",
              "    </tr>\n",
              "    <tr>\n",
              "      <th>1</th>\n",
              "      <td>6414100192</td>\n",
              "      <td>20141209T000000</td>\n",
              "      <td>3</td>\n",
              "      <td>2.25</td>\n",
              "      <td>2570</td>\n",
              "      <td>7242</td>\n",
              "      <td>2.0</td>\n",
              "      <td>0</td>\n",
              "      <td>0</td>\n",
              "      <td>3</td>\n",
              "      <td>7</td>\n",
              "      <td>2170</td>\n",
              "      <td>400</td>\n",
              "      <td>1951</td>\n",
              "      <td>1991</td>\n",
              "      <td>98125</td>\n",
              "      <td>47.7210</td>\n",
              "      <td>-122.319</td>\n",
              "      <td>1690</td>\n",
              "      <td>7639</td>\n",
              "    </tr>\n",
              "    <tr>\n",
              "      <th>2</th>\n",
              "      <td>5631500400</td>\n",
              "      <td>20150225T000000</td>\n",
              "      <td>2</td>\n",
              "      <td>1.00</td>\n",
              "      <td>770</td>\n",
              "      <td>10000</td>\n",
              "      <td>1.0</td>\n",
              "      <td>0</td>\n",
              "      <td>0</td>\n",
              "      <td>3</td>\n",
              "      <td>6</td>\n",
              "      <td>770</td>\n",
              "      <td>0</td>\n",
              "      <td>1933</td>\n",
              "      <td>0</td>\n",
              "      <td>98028</td>\n",
              "      <td>47.7379</td>\n",
              "      <td>-122.233</td>\n",
              "      <td>2720</td>\n",
              "      <td>8062</td>\n",
              "    </tr>\n",
              "    <tr>\n",
              "      <th>3</th>\n",
              "      <td>2487200875</td>\n",
              "      <td>20141209T000000</td>\n",
              "      <td>4</td>\n",
              "      <td>3.00</td>\n",
              "      <td>1960</td>\n",
              "      <td>5000</td>\n",
              "      <td>1.0</td>\n",
              "      <td>0</td>\n",
              "      <td>0</td>\n",
              "      <td>5</td>\n",
              "      <td>7</td>\n",
              "      <td>1050</td>\n",
              "      <td>910</td>\n",
              "      <td>1965</td>\n",
              "      <td>0</td>\n",
              "      <td>98136</td>\n",
              "      <td>47.5208</td>\n",
              "      <td>-122.393</td>\n",
              "      <td>1360</td>\n",
              "      <td>5000</td>\n",
              "    </tr>\n",
              "    <tr>\n",
              "      <th>4</th>\n",
              "      <td>1954400510</td>\n",
              "      <td>20150218T000000</td>\n",
              "      <td>3</td>\n",
              "      <td>2.00</td>\n",
              "      <td>1680</td>\n",
              "      <td>8080</td>\n",
              "      <td>1.0</td>\n",
              "      <td>0</td>\n",
              "      <td>0</td>\n",
              "      <td>3</td>\n",
              "      <td>8</td>\n",
              "      <td>1680</td>\n",
              "      <td>0</td>\n",
              "      <td>1987</td>\n",
              "      <td>0</td>\n",
              "      <td>98074</td>\n",
              "      <td>47.6168</td>\n",
              "      <td>-122.045</td>\n",
              "      <td>1800</td>\n",
              "      <td>7503</td>\n",
              "    </tr>\n",
              "  </tbody>\n",
              "</table>\n",
              "</div>"
            ],
            "text/plain": [
              "           id             date  bedrooms  ...     long  sqft_living15  sqft_lot15\n",
              "0  7129300520  20141013T000000         3  ... -122.257           1340        5650\n",
              "1  6414100192  20141209T000000         3  ... -122.319           1690        7639\n",
              "2  5631500400  20150225T000000         2  ... -122.233           2720        8062\n",
              "3  2487200875  20141209T000000         4  ... -122.393           1360        5000\n",
              "4  1954400510  20150218T000000         3  ... -122.045           1800        7503\n",
              "\n",
              "[5 rows x 20 columns]"
            ]
          },
          "metadata": {
            "tags": []
          },
          "execution_count": 4
        }
      ]
    },
    {
      "cell_type": "markdown",
      "metadata": {
        "id": "uM5qB-Wb6Xql",
        "colab_type": "text"
      },
      "source": [
        "# feature extractor!\n",
        "## just select some features among inputs"
      ]
    },
    {
      "cell_type": "code",
      "metadata": {
        "id": "tY7T8JVgtY7X",
        "colab_type": "code",
        "colab": {}
      },
      "source": [
        "features=['bedrooms','bathrooms','sqft_living','sqft_lot','floors','yr_built']\n",
        "H=X[features]"
      ],
      "execution_count": 0,
      "outputs": []
    },
    {
      "cell_type": "markdown",
      "metadata": {
        "id": "HZmOsDKo63us",
        "colab_type": "text"
      },
      "source": [
        "#add  $h_0(x)=1$  to  the features"
      ]
    },
    {
      "cell_type": "code",
      "metadata": {
        "id": "Z91TR2ig634U",
        "colab_type": "code",
        "outputId": "db596eef-eab9-4f2c-d4bd-23789932bb99",
        "colab": {
          "base_uri": "https://localhost:8080/",
          "height": 204
        }
      },
      "source": [
        "H['intersept']=1\n",
        "H.head()"
      ],
      "execution_count": 6,
      "outputs": [
        {
          "output_type": "execute_result",
          "data": {
            "text/html": [
              "<div>\n",
              "<style scoped>\n",
              "    .dataframe tbody tr th:only-of-type {\n",
              "        vertical-align: middle;\n",
              "    }\n",
              "\n",
              "    .dataframe tbody tr th {\n",
              "        vertical-align: top;\n",
              "    }\n",
              "\n",
              "    .dataframe thead th {\n",
              "        text-align: right;\n",
              "    }\n",
              "</style>\n",
              "<table border=\"1\" class=\"dataframe\">\n",
              "  <thead>\n",
              "    <tr style=\"text-align: right;\">\n",
              "      <th></th>\n",
              "      <th>bedrooms</th>\n",
              "      <th>bathrooms</th>\n",
              "      <th>sqft_living</th>\n",
              "      <th>sqft_lot</th>\n",
              "      <th>floors</th>\n",
              "      <th>yr_built</th>\n",
              "      <th>intersept</th>\n",
              "    </tr>\n",
              "  </thead>\n",
              "  <tbody>\n",
              "    <tr>\n",
              "      <th>0</th>\n",
              "      <td>3</td>\n",
              "      <td>1.00</td>\n",
              "      <td>1180</td>\n",
              "      <td>5650</td>\n",
              "      <td>1.0</td>\n",
              "      <td>1955</td>\n",
              "      <td>1</td>\n",
              "    </tr>\n",
              "    <tr>\n",
              "      <th>1</th>\n",
              "      <td>3</td>\n",
              "      <td>2.25</td>\n",
              "      <td>2570</td>\n",
              "      <td>7242</td>\n",
              "      <td>2.0</td>\n",
              "      <td>1951</td>\n",
              "      <td>1</td>\n",
              "    </tr>\n",
              "    <tr>\n",
              "      <th>2</th>\n",
              "      <td>2</td>\n",
              "      <td>1.00</td>\n",
              "      <td>770</td>\n",
              "      <td>10000</td>\n",
              "      <td>1.0</td>\n",
              "      <td>1933</td>\n",
              "      <td>1</td>\n",
              "    </tr>\n",
              "    <tr>\n",
              "      <th>3</th>\n",
              "      <td>4</td>\n",
              "      <td>3.00</td>\n",
              "      <td>1960</td>\n",
              "      <td>5000</td>\n",
              "      <td>1.0</td>\n",
              "      <td>1965</td>\n",
              "      <td>1</td>\n",
              "    </tr>\n",
              "    <tr>\n",
              "      <th>4</th>\n",
              "      <td>3</td>\n",
              "      <td>2.00</td>\n",
              "      <td>1680</td>\n",
              "      <td>8080</td>\n",
              "      <td>1.0</td>\n",
              "      <td>1987</td>\n",
              "      <td>1</td>\n",
              "    </tr>\n",
              "  </tbody>\n",
              "</table>\n",
              "</div>"
            ],
            "text/plain": [
              "   bedrooms  bathrooms  sqft_living  sqft_lot  floors  yr_built  intersept\n",
              "0         3       1.00         1180      5650     1.0      1955          1\n",
              "1         3       2.25         2570      7242     2.0      1951          1\n",
              "2         2       1.00          770     10000     1.0      1933          1\n",
              "3         4       3.00         1960      5000     1.0      1965          1\n",
              "4         3       2.00         1680      8080     1.0      1987          1"
            ]
          },
          "metadata": {
            "tags": []
          },
          "execution_count": 6
        }
      ]
    },
    {
      "cell_type": "markdown",
      "metadata": {
        "id": "rUvfXpYN7cJp",
        "colab_type": "text"
      },
      "source": [
        "# print some dimensions"
      ]
    },
    {
      "cell_type": "code",
      "metadata": {
        "id": "m7DXa6cPtY7b",
        "colab_type": "code",
        "outputId": "5f847cf6-c234-42ac-dd96-8ab594768186",
        "colab": {
          "base_uri": "https://localhost:8080/",
          "height": 34
        }
      },
      "source": [
        "d=X.shape[1]\n",
        "D=H.shape[1]\n",
        "N=len(H)\n",
        "print('number of inputs(d)=%d,   number of features(D)=%d,   number of data(N)=%d'%(d,D,N))"
      ],
      "execution_count": 7,
      "outputs": [
        {
          "output_type": "stream",
          "text": [
            "number of inputs(d)=20,   number of features(D)=7,   number of data(N)=21613\n"
          ],
          "name": "stdout"
        }
      ]
    },
    {
      "cell_type": "markdown",
      "metadata": {
        "id": "fxzSioPE8Hlp",
        "colab_type": "text"
      },
      "source": [
        "# approach 1 : close form\n",
        "# $w=(H^T H)^{-1}H^TY$"
      ]
    },
    {
      "cell_type": "markdown",
      "metadata": {
        "id": "wy1BiYHF_RG9",
        "colab_type": "text"
      },
      "source": [
        "cast H from dataframe to matrix"
      ]
    },
    {
      "cell_type": "code",
      "metadata": {
        "id": "b1DCtTt-tY7e",
        "colab_type": "code",
        "outputId": "75275a61-9094-4926-c2df-4291e9a7e3b2",
        "colab": {
          "base_uri": "https://localhost:8080/",
          "height": 34
        }
      },
      "source": [
        "H=np.matrix(H)\n",
        "H.shape\n"
      ],
      "execution_count": 8,
      "outputs": [
        {
          "output_type": "execute_result",
          "data": {
            "text/plain": [
              "(21613, 7)"
            ]
          },
          "metadata": {
            "tags": []
          },
          "execution_count": 8
        }
      ]
    },
    {
      "cell_type": "markdown",
      "metadata": {
        "id": "E6aboVBJ_9yh",
        "colab_type": "text"
      },
      "source": [
        "*cast Y from Series to vector*"
      ]
    },
    {
      "cell_type": "code",
      "metadata": {
        "id": "9f1rU1GO_-K9",
        "colab_type": "code",
        "outputId": "30052b82-d46d-4d21-973d-d39986ae000e",
        "colab": {
          "base_uri": "https://localhost:8080/",
          "height": 34
        }
      },
      "source": [
        "Y=np.array(Y)\n",
        "Y=Y.reshape((len(Y),1))\n",
        "Y.shape"
      ],
      "execution_count": 9,
      "outputs": [
        {
          "output_type": "execute_result",
          "data": {
            "text/plain": [
              "(21613, 1)"
            ]
          },
          "metadata": {
            "tags": []
          },
          "execution_count": 9
        }
      ]
    },
    {
      "cell_type": "markdown",
      "metadata": {
        "id": "Is_Ffsyv_ury",
        "colab_type": "text"
      },
      "source": [
        "get transpose from H"
      ]
    },
    {
      "cell_type": "code",
      "metadata": {
        "id": "fAZaOuhutY7i",
        "colab_type": "code",
        "outputId": "b427a5a2-a21c-4c91-85ec-61c5a65ed4d5",
        "colab": {
          "base_uri": "https://localhost:8080/",
          "height": 34
        }
      },
      "source": [
        "HT=H.T\n",
        "HT.shape"
      ],
      "execution_count": 10,
      "outputs": [
        {
          "output_type": "execute_result",
          "data": {
            "text/plain": [
              "(7, 21613)"
            ]
          },
          "metadata": {
            "tags": []
          },
          "execution_count": 10
        }
      ]
    },
    {
      "cell_type": "markdown",
      "metadata": {
        "id": "tPkwQAfeAjjG",
        "colab_type": "text"
      },
      "source": [
        "# $(H^T H)$"
      ]
    },
    {
      "cell_type": "code",
      "metadata": {
        "id": "pxrROEIotY7q",
        "colab_type": "code",
        "outputId": "d957c321-75ec-4dff-c2c0-c58d2f6518c7",
        "colab": {
          "base_uri": "https://localhost:8080/",
          "height": 34
        }
      },
      "source": [
        "temp1=HT*H\n",
        "temp1.shape"
      ],
      "execution_count": 11,
      "outputs": [
        {
          "output_type": "execute_result",
          "data": {
            "text/plain": [
              "(7, 7)"
            ]
          },
          "metadata": {
            "tags": []
          },
          "execution_count": 11
        }
      ]
    },
    {
      "cell_type": "markdown",
      "metadata": {
        "id": "vPRSxli8Arb5",
        "colab_type": "text"
      },
      "source": [
        "# $(H^T H)^{-1}$"
      ]
    },
    {
      "cell_type": "code",
      "metadata": {
        "id": "wbzlIy-RtY7z",
        "colab_type": "code",
        "outputId": "37caffe2-3a8e-4579-821f-ed0fb3b01532",
        "colab": {
          "base_uri": "https://localhost:8080/",
          "height": 34
        }
      },
      "source": [
        "temp2=temp1.I\n",
        "temp2.shape"
      ],
      "execution_count": 12,
      "outputs": [
        {
          "output_type": "execute_result",
          "data": {
            "text/plain": [
              "(7, 7)"
            ]
          },
          "metadata": {
            "tags": []
          },
          "execution_count": 12
        }
      ]
    },
    {
      "cell_type": "markdown",
      "metadata": {
        "id": "wTvcC2j_AvDT",
        "colab_type": "text"
      },
      "source": [
        "# $(H^T H)^{-1}H^T$"
      ]
    },
    {
      "cell_type": "code",
      "metadata": {
        "id": "uraf0mWLAU5q",
        "colab_type": "code",
        "outputId": "096bd2cb-d197-4b6e-afe3-eefce3356cae",
        "colab": {
          "base_uri": "https://localhost:8080/",
          "height": 34
        }
      },
      "source": [
        "temp3=temp2*HT\n",
        "temp3.shape"
      ],
      "execution_count": 13,
      "outputs": [
        {
          "output_type": "execute_result",
          "data": {
            "text/plain": [
              "(7, 21613)"
            ]
          },
          "metadata": {
            "tags": []
          },
          "execution_count": 13
        }
      ]
    },
    {
      "cell_type": "markdown",
      "metadata": {
        "id": "_maLs8rPA4s9",
        "colab_type": "text"
      },
      "source": [
        "# $(H^T H)^{-1}H^TY$"
      ]
    },
    {
      "cell_type": "code",
      "metadata": {
        "id": "fuOBpNo7tY74",
        "colab_type": "code",
        "outputId": "3470527f-5530-438a-fafc-9a477bf62124",
        "colab": {
          "base_uri": "https://localhost:8080/",
          "height": 34
        }
      },
      "source": [
        "w=temp3*Y\n",
        "w.shape"
      ],
      "execution_count": 14,
      "outputs": [
        {
          "output_type": "execute_result",
          "data": {
            "text/plain": [
              "(7, 1)"
            ]
          },
          "metadata": {
            "tags": []
          },
          "execution_count": 14
        }
      ]
    },
    {
      "cell_type": "code",
      "metadata": {
        "id": "ntKrqj_DBCwh",
        "colab_type": "code",
        "outputId": "ae34b2e8-c6ce-4bac-ed04-25128a169011",
        "colab": {
          "base_uri": "https://localhost:8080/",
          "height": 136
        }
      },
      "source": [
        "print(w)"
      ],
      "execution_count": 15,
      "outputs": [
        {
          "output_type": "stream",
          "text": [
            "[[-6.84857047e+04]\n",
            " [ 6.75144335e+04]\n",
            " [ 3.03211017e+02]\n",
            " [-2.98319830e-01]\n",
            " [ 5.39815181e+04]\n",
            " [-3.36495113e+03]\n",
            " [ 6.55369505e+06]]\n"
          ],
          "name": "stdout"
        }
      ]
    },
    {
      "cell_type": "markdown",
      "metadata": {
        "id": "Bveda7Z3BORr",
        "colab_type": "text"
      },
      "source": [
        "# predict based on model"
      ]
    },
    {
      "cell_type": "code",
      "metadata": {
        "id": "S9aBce_1hqU1",
        "colab_type": "code",
        "colab": {}
      },
      "source": [
        "Y_hat = H*w"
      ],
      "execution_count": 0,
      "outputs": []
    },
    {
      "cell_type": "markdown",
      "metadata": {
        "id": "CmrJfBzHBNae",
        "colab_type": "text"
      },
      "source": [
        "# Residual sum of squers"
      ]
    },
    {
      "cell_type": "code",
      "metadata": {
        "id": "zY3qCSevYlTu",
        "colab_type": "code",
        "outputId": "db19482f-e119-4e9c-bf52-6fc66663e812",
        "colab": {
          "base_uri": "https://localhost:8080/",
          "height": 34
        }
      },
      "source": [
        "RSS=(Y-Y_hat).T*(Y-Y_hat)\n",
        "print(RSS)"
      ],
      "execution_count": 17,
      "outputs": [
        {
          "output_type": "stream",
          "text": [
            "[[1.29266065e+15]]\n"
          ],
          "name": "stdout"
        }
      ]
    },
    {
      "cell_type": "markdown",
      "metadata": {
        "id": "X8YsRXVjLiaN",
        "colab_type": "text"
      },
      "source": [
        "# plot $\\log(1+w)$ (just for better visualization) \n",
        "## <font color='blue'>blue </font> for positive weights\n",
        "## <font color='red'>red </font> for negative weights\n",
        "\n"
      ]
    },
    {
      "cell_type": "code",
      "metadata": {
        "id": "yZ6Sp_Kahx5w",
        "colab_type": "code",
        "outputId": "b9c75970-9a1c-42fa-cc5f-8a02dac49e1a",
        "colab": {
          "base_uri": "https://localhost:8080/",
          "height": 326
        }
      },
      "source": [
        "ploted_w=np.log(np.array(abs(w[:,0])).flatten()+1)\n",
        "plt.xticks(rotation=90)\n",
        "color=['b' if s>0 else 'r' for s in w]\n",
        "ploted_features=features.copy()\n",
        "ploted_features.append('intercept')\n",
        "plt.bar(ploted_features,ploted_w,color=color)\n"
      ],
      "execution_count": 18,
      "outputs": [
        {
          "output_type": "execute_result",
          "data": {
            "text/plain": [
              "<BarContainer object of 7 artists>"
            ]
          },
          "metadata": {
            "tags": []
          },
          "execution_count": 18
        },
        {
          "output_type": "display_data",
          "data": {
            "image/png": "[encoded data removed]",
            "text/plain": [
              "<Figure size 432x288 with 1 Axes>"
            ]
          },
          "metadata": {
            "tags": []
          }
        }
      ]
    },
    {
      "cell_type": "markdown",
      "metadata": {
        "id": "5V5mYPg3MSa0",
        "colab_type": "text"
      },
      "source": [
        "## Q1: using these weights, we can't extract any meaningful information about features! why?"
      ]
    },
    {
      "cell_type": "markdown",
      "metadata": {
        "id": "sW5ovu4gNN3C",
        "colab_type": "text"
      },
      "source": [
        "## We need to transform all features to a similar scale then find corresponding weights\n",
        "### transform x between 0 and 1 : $ \\frac{x-min(x)}{max(x)-min(x)} $ or using MinMaxScaler from sklearn.preprocessing\n",
        "\n"
      ]
    },
    {
      "cell_type": "code",
      "metadata": {
        "id": "2LBcK4nDCNKw",
        "colab_type": "code",
        "colab": {}
      },
      "source": [
        "from sklearn.preprocessing import MinMaxScaler"
      ],
      "execution_count": 0,
      "outputs": []
    },
    {
      "cell_type": "code",
      "metadata": {
        "colab_type": "code",
        "id": "rbmG3wBgGwqT",
        "colab": {
          "base_uri": "https://localhost:8080/",
          "height": 34
        },
        "outputId": "1b394111-d2f8-44a4-8c90-4a892b0afabc"
      },
      "source": [
        "scaler=MinMaxScaler().fit(X[features])  #fit scaler to the data\n",
        "scaler"
      ],
      "execution_count": 27,
      "outputs": [
        {
          "output_type": "execute_result",
          "data": {
            "text/plain": [
              "MinMaxScaler(copy=True, feature_range=(0, 1))"
            ]
          },
          "metadata": {
            "tags": []
          },
          "execution_count": 27
        }
      ]
    },
    {
      "cell_type": "code",
      "metadata": {
        "colab_type": "code",
        "id": "o9reHwNmWCrL",
        "colab": {}
      },
      "source": [
        "#transform data to range [0,1]\n",
        "scaled_X=scaler.transform(X[features])\n",
        "# concatinate column 1 as a 'intersept' to the data   \n",
        "scaled_X=np.concatenate([np.ones((N,1),dtype=scaled_X.dtype),scaled_X], axis=1)"
      ],
      "execution_count": 0,
      "outputs": []
    },
    {
      "cell_type": "markdown",
      "metadata": {
        "id": "KQTvGM5APvjx",
        "colab_type": "text"
      },
      "source": [
        "##show scaled data in a dataframe!"
      ]
    },
    {
      "cell_type": "code",
      "metadata": {
        "id": "4nZcn0qpPq1K",
        "colab_type": "code",
        "colab": {}
      },
      "source": [
        "cols_name=['intersept']+features\n",
        "pd.DataFrame(scaled_X,columns=cols_name).head()"
      ],
      "execution_count": 0,
      "outputs": []
    },
    {
      "cell_type": "markdown",
      "metadata": {
        "id": "RSdDQBlhQJFf",
        "colab_type": "text"
      },
      "source": [
        "## cast data from array to matrix"
      ]
    },
    {
      "cell_type": "code",
      "metadata": {
        "colab_type": "code",
        "id": "9tGc2OB3SxVZ",
        "colab": {}
      },
      "source": [
        "H=np.matrix(scaled_X)"
      ],
      "execution_count": 0,
      "outputs": []
    },
    {
      "cell_type": "markdown",
      "metadata": {
        "id": "gdaViM2WQi7h",
        "colab_type": "text"
      },
      "source": [
        "## close form approach:"
      ]
    },
    {
      "cell_type": "code",
      "metadata": {
        "id": "nHWjsECfEKPV",
        "colab_type": "code",
        "colab": {
          "base_uri": "https://localhost:8080/",
          "height": 136
        },
        "outputId": "4ec1ddb3-097a-4460-e071-942e4e450b92"
      },
      "source": [
        "w=((H.T*H).I)*H.T*Y\n",
        "w"
      ],
      "execution_count": 29,
      "outputs": [
        {
          "output_type": "execute_result",
          "data": {
            "text/plain": [
              "matrix([[  302045.4877114 ],\n",
              "        [-2260028.25555055],\n",
              "        [  540115.46795343],\n",
              "        [ 4017545.97922359],\n",
              "        [ -492478.01015133],\n",
              "        [  134953.79520517],\n",
              "        [ -386969.37984209]])"
            ]
          },
          "metadata": {
            "tags": []
          },
          "execution_count": 29
        }
      ]
    },
    {
      "cell_type": "markdown",
      "metadata": {
        "id": "KgBNpogTQypQ",
        "colab_type": "text"
      },
      "source": [
        "## plot weights\n",
        "## are they meaningful?"
      ]
    },
    {
      "cell_type": "code",
      "metadata": {
        "id": "rkzdt3k6YDHy",
        "colab_type": "code",
        "outputId": "3f55a83b-cc45-4fef-aa5e-9dfcd65be67e",
        "colab": {
          "base_uri": "https://localhost:8080/",
          "height": 326
        }
      },
      "source": [
        "ploted_w=np.array(abs(w[:,0])).flatten()\n",
        "plt.xticks(rotation=90)\n",
        "color=['b' if s>0 else 'r' for s in w]\n",
        "ploted_features=features.copy()\n",
        "ploted_features.append('intercept')\n",
        "plt.bar(ploted_features,ploted_w,color=color)"
      ],
      "execution_count": 25,
      "outputs": [
        {
          "output_type": "execute_result",
          "data": {
            "text/plain": [
              "<BarContainer object of 7 artists>"
            ]
          },
          "metadata": {
            "tags": []
          },
          "execution_count": 25
        },
        {
          "output_type": "display_data",
          "data": {
            "image/png": "[encoded data removed]",
            "text/plain": [
              "<Figure size 432x288 with 1 Axes>"
            ]
          },
          "metadata": {
            "tags": []
          }
        }
      ]
    },
    {
      "cell_type": "markdown",
      "metadata": {
        "id": "GI8pX94LRMKR",
        "colab_type": "text"
      },
      "source": [
        "## Calculate RSS"
      ]
    },
    {
      "cell_type": "code",
      "metadata": {
        "id": "5p090Wo9YRlq",
        "colab_type": "code",
        "outputId": "48b23363-4382-403d-b3b8-8e757a35ca93",
        "colab": {
          "base_uri": "https://localhost:8080/",
          "height": 34
        }
      },
      "source": [
        "Y_hat = H*w\n",
        "RSS=(Y-Y_hat).T*(Y-Y_hat)\n",
        "print(RSS)"
      ],
      "execution_count": 26,
      "outputs": [
        {
          "output_type": "stream",
          "text": [
            "[[1.29266065e+15]]\n"
          ],
          "name": "stdout"
        }
      ]
    },
    {
      "cell_type": "markdown",
      "metadata": {
        "id": "HutDl7_ERUPu",
        "colab_type": "text"
      },
      "source": [
        "## Q2: whether or not we scale the data, It can be seen the same RSS occurs; why? "
      ]
    },
    {
      "cell_type": "markdown",
      "metadata": {
        "id": "cTj8AusmVSAR",
        "colab_type": "text"
      },
      "source": [
        "# Approach 2 : Hill climbing (Gradient Descent)\n",
        "# $w^{t+1}=w^{t} - \\eta \\nabla_{w^t} RSS(w) $"
      ]
    },
    {
      "cell_type": "code",
      "metadata": {
        "id": "a9scr3NdbfXD",
        "colab_type": "code",
        "colab": {}
      },
      "source": [
        "\n"
      ],
      "execution_count": 0,
      "outputs": []
    },
    {
      "cell_type": "code",
      "metadata": {
        "id": "3UW_ZGqBUBhu",
        "colab_type": "code",
        "colab": {}
      },
      "source": [
        "t=0\n",
        "eps=0.01\n",
        "alpha=0.0000287\n",
        "max_iteration=100000\n",
        "RSS=[]\n",
        "w=np.zeros((D,1))\n",
        "convergence=False\n",
        "while not convergence:\n",
        "  Y_hat=H*w\n",
        "  RSS.append(np.asscalar((Y-Y_hat).T*(Y-Y_hat)))\n",
        "  g= -2* H.T*(Y-Y_hat) \n",
        "  if sum(abs(g))<=eps:\n",
        "    convergence=True\n",
        "  if t==max_iteration:\n",
        "    convergence=True\n",
        "  eta=alpha/1\n",
        "  w=w-eta*g\n",
        "  t+=1"
      ],
      "execution_count": 0,
      "outputs": []
    },
    {
      "cell_type": "code",
      "metadata": {
        "id": "xgndkrOLVPUO",
        "colab_type": "code",
        "colab": {
          "base_uri": "https://localhost:8080/",
          "height": 293
        },
        "outputId": "b54d5442-ebd8-4887-ab9b-17df67708df9"
      },
      "source": [
        "plt.plot(np.arange(len(RSS)),RSS)"
      ],
      "execution_count": 156,
      "outputs": [
        {
          "output_type": "execute_result",
          "data": {
            "text/plain": [
              "[<matplotlib.lines.Line2D at 0x7f58b18e9320>]"
            ]
          },
          "metadata": {
            "tags": []
          },
          "execution_count": 156
        },
        {
          "output_type": "display_data",
          "data": {
            "image/png": "[encoded data removed]",
            "text/plain": [
              "<Figure size 432x288 with 1 Axes>"
            ]
          },
          "metadata": {
            "tags": []
          }
        }
      ]
    },
    {
      "cell_type": "code",
      "metadata": {
        "id": "r83HZEGUd2o-",
        "colab_type": "code",
        "colab": {
          "base_uri": "https://localhost:8080/",
          "height": 34
        },
        "outputId": "96d4f465-733e-49f6-eaff-1243e4041605"
      },
      "source": [
        "sum(abs(g))"
      ],
      "execution_count": 157,
      "outputs": [
        {
          "output_type": "execute_result",
          "data": {
            "text/plain": [
              "matrix([[0.00999376]])"
            ]
          },
          "metadata": {
            "tags": []
          },
          "execution_count": 157
        }
      ]
    },
    {
      "cell_type": "code",
      "metadata": {
        "id": "qkqdNJljfEXw",
        "colab_type": "code",
        "colab": {
          "base_uri": "https://localhost:8080/",
          "height": 326
        },
        "outputId": "f96cdd62-90f6-4a9a-8dee-32f0b405fe0b"
      },
      "source": [
        "ploted_w=np.array(abs(w[:,0])).flatten()\n",
        "plt.xticks(rotation=90)\n",
        "color=['b' if s>0 else 'r' for s in w]\n",
        "ploted_features=features.copy()\n",
        "ploted_features.append('intercept')\n",
        "plt.bar(ploted_features,ploted_w,color=color)"
      ],
      "execution_count": 158,
      "outputs": [
        {
          "output_type": "execute_result",
          "data": {
            "text/plain": [
              "<BarContainer object of 7 artists>"
            ]
          },
          "metadata": {
            "tags": []
          },
          "execution_count": 158
        },
        {
          "output_type": "display_data",
          "data": {
            "image/png": "[encoded data removed]",
            "text/plain": [
              "<Figure size 432x288 with 1 Axes>"
            ]
          },
          "metadata": {
            "tags": []
          }
        }
      ]
    },
    {
      "cell_type": "code",
      "metadata": {
        "id": "ewWP_RXIjiZW",
        "colab_type": "code",
        "colab": {
          "base_uri": "https://localhost:8080/",
          "height": 34
        },
        "outputId": "12e88e05-4cd3-4a2c-d11b-e81d02ae2181"
      },
      "source": [
        "t"
      ],
      "execution_count": 159,
      "outputs": [
        {
          "output_type": "execute_result",
          "data": {
            "text/plain": [
              "39755"
            ]
          },
          "metadata": {
            "tags": []
          },
          "execution_count": 159
        }
      ]
    },
    {
      "cell_type": "code",
      "metadata": {
        "id": "5BM2OJZutqnN",
        "colab_type": "code",
        "colab": {}
      },
      "source": [
        ""
      ],
      "execution_count": 0,
      "outputs": []
    }
  ]
}